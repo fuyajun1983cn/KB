{
 "cells": [
  {
   "cell_type": "markdown",
   "metadata": {},
   "source": [
    "## Notes on C++ Concurrent Programming"
   ]
  },
  {
   "cell_type": "markdown",
   "metadata": {},
   "source": [
    "**Common Headers**"
   ]
  },
  {
   "cell_type": "code",
   "execution_count": null,
   "metadata": {},
   "outputs": [],
   "source": [
    "#include <iostream>\n",
    "#include <thread>\n",
    "\n",
    "using namespace std;"
   ]
  },
  {
   "cell_type": "markdown",
   "metadata": {},
   "source": [
    "### Introduction to multithread\n",
    "\n",
    "1. Pros\n",
    "\n",
    "   - fast to start\n",
    "   \n",
    "   - low overhead\n",
    "   \n",
    "2. Cons\n",
    "\n",
    "   - difficult to implement\n",
    "   \n",
    "   - can't run on distributed system. "
   ]
  },
  {
   "cell_type": "markdown",
   "metadata": {},
   "source": [
    "**An Example**"
   ]
  },
  {
   "cell_type": "code",
   "execution_count": null,
   "metadata": {},
   "outputs": [],
   "source": [
    "void function_1() {\n",
    "    cout << \"This is a test\" << endl;\n",
    "}\n",
    "\n",
    "int main() {\n",
    "    thread t1(function_1); //t1 starts running\n",
    "    //t1.join(); //main thread waits for t1 to finish\n",
    "    t1.detach(); //t1 will freely on its own --- daemon process\n",
    "    \n",
    "    if (t1.joinable())\n",
    "        t1.join();\n",
    "    \n",
    "    return 0\n",
    "}"
   ]
  },
  {
   "cell_type": "markdown",
   "metadata": {},
   "source": [
    "### Thread Management"
   ]
  },
  {
   "cell_type": "markdown",
   "metadata": {},
   "source": [
    "**An Example**"
   ]
  },
  {
   "cell_type": "code",
   "execution_count": null,
   "metadata": {},
   "outputs": [],
   "source": [
    "class Fctor {\n",
    "public:\n",
    "    void operator() () {\n",
    "        for (int i = 0; i > -100; i--) {\n",
    "            cout << \"from t1 \" << i << endl;\n",
    "        }\n",
    "    }\n",
    "}"
   ]
  },
  {
   "cell_type": "code",
   "execution_count": null,
   "metadata": {},
   "outputs": [],
   "source": [
    "int main() {\n",
    "    //thread t1(function_1);//t1 starts running\n",
    "    \n",
    "    Factor fct;\n",
    "    thread t1(fct); // t1((Factor()))\n",
    "    \n",
    "    \n",
    "    try {\n",
    "        for (int i = 0; i < 100; i++) {\n",
    "            cout << \"from main: \" << i << endl;\n",
    "        }\n",
    "    } catch (...) {\n",
    "        t1.join();\n",
    "        throw;\n",
    "    }\n",
    "}"
   ]
  },
  {
   "cell_type": "markdown",
   "metadata": {},
   "source": [
    "- passing a parameter to the thread"
   ]
  },
  {
   "cell_type": "code",
   "execution_count": null,
   "metadata": {},
   "outputs": [],
   "source": [
    "class Fctor {\n",
    "public:\n",
    "    void operator()(string& msg) {\n",
    "        cout << \"t1 says: \" << msg << endl;\n",
    "        msg = \"Trust is the mother of deceit.\";\n",
    "    }\n",
    "}\n",
    "\n",
    "int main() {\n",
    "    string s = \"Where there is no trust, there is no love\";\n",
    "    cout << std::this_thread::get_id() << endl;\n",
    "    //thread t1((Fctor()), std::ref(s));//t1 starts running\n",
    "    thread t1((Fctor()), std::move(s));//t1 starts running\n",
    "    \n",
    "    thread t2 = t1; //compile error. \n",
    "    \n",
    "    thread t3 = std::move(t1);\n",
    "    \n",
    "    t1.join();\n",
    "    \n",
    "    return 0;\n",
    "}"
   ]
  }
 ],
 "metadata": {
  "kernelspec": {
   "display_name": "C++17",
   "language": "C++17",
   "name": "xeus-cling-cpp17"
  },
  "language_info": {
   "codemirror_mode": "text/x-c++src",
   "file_extension": ".cpp",
   "mimetype": "text/x-c++src",
   "name": "c++",
   "version": "-std=c++17"
  }
 },
 "nbformat": 4,
 "nbformat_minor": 2
}
